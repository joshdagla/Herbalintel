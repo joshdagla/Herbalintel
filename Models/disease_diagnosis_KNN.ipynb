{
 "cells": [
  {
   "cell_type": "code",
   "execution_count": 1,
   "id": "82f0a2a5",
   "metadata": {},
   "outputs": [],
   "source": [
    "# Import Libraries\n",
    "import pandas as pd\n",
    "import numpy as np\n",
    "from sklearn.model_selection import train_test_split\n",
    "from sklearn.preprocessing import LabelEncoder, StandardScaler\n",
    "from sklearn.neighbors import KNeighborsClassifier\n",
    "from sklearn.multioutput import MultiOutputClassifier\n",
    "from sklearn.metrics import classification_report, confusion_matrix"
   ]
  },
  {
   "cell_type": "code",
   "execution_count": 2,
   "id": "ac8fc6d1",
   "metadata": {},
   "outputs": [],
   "source": [
    "# Load Dataset\n",
    "disease_df = pd.read_csv('disease_diagnosis.csv')"
   ]
  },
  {
   "cell_type": "code",
   "execution_count": 3,
   "id": "879cefc9",
   "metadata": {},
   "outputs": [
    {
     "name": "stderr",
     "output_type": "stream",
     "text": [
      "C:\\Users\\Admin\\AppData\\Local\\Temp\\ipykernel_3900\\1025259500.py:27: SettingWithCopyWarning: \n",
      "A value is trying to be set on a copy of a slice from a DataFrame.\n",
      "Try using .loc[row_indexer,col_indexer] = value instead\n",
      "\n",
      "See the caveats in the documentation: https://pandas.pydata.org/pandas-docs/stable/user_guide/indexing.html#returning-a-view-versus-a-copy\n",
      "  y['Diagnosis'] = diagnosis_encoder.fit_transform(y['Diagnosis'])\n",
      "C:\\Users\\Admin\\AppData\\Local\\Temp\\ipykernel_3900\\1025259500.py:28: SettingWithCopyWarning: \n",
      "A value is trying to be set on a copy of a slice from a DataFrame.\n",
      "Try using .loc[row_indexer,col_indexer] = value instead\n",
      "\n",
      "See the caveats in the documentation: https://pandas.pydata.org/pandas-docs/stable/user_guide/indexing.html#returning-a-view-versus-a-copy\n",
      "  y['Severity'] = severity_encoder.fit_transform(y['Severity'])\n"
     ]
    }
   ],
   "source": [
    "\n",
    "# Split Blood Pressure into Systolic and Diastolic\n",
    "bp_split = disease_df['Blood_Pressure_mmHg'].str.split('/', expand=True).astype(float)\n",
    "disease_df['BP_Systolic'] = bp_split[0]\n",
    "disease_df['BP_Diastolic'] = bp_split[1]\n",
    "\n",
    "# One-Hot Encode Symptoms\n",
    "all_symptoms = pd.unique(\n",
    "    disease_df[['Symptom_1', 'Symptom_2', 'Symptom_3']].values.ravel()\n",
    ")\n",
    "\n",
    "for sym in all_symptoms:\n",
    "    disease_df[f\"symptom_{sym}\"] = disease_df[['Symptom_1', 'Symptom_2', 'Symptom_3']].isin([sym]).any(axis=1).astype(int)\n",
    "\n",
    "# Feature and Target Selection\n",
    "features = ['Heart_Rate_bpm', 'Body_Temperature_C',\n",
    "            'Oxygen_Saturation_%', 'BP_Systolic', 'BP_Diastolic'] + \\\n",
    "           [f\"symptom_{sym}\" for sym in all_symptoms]\n",
    "\n",
    "X = disease_df[features]\n",
    "# Target Columns\n",
    "y = disease_df[['Diagnosis', 'Severity']]\n",
    "\n",
    "# Encode each target\n",
    "diagnosis_encoder = LabelEncoder()\n",
    "severity_encoder = LabelEncoder()\n",
    "\n",
    "y['Diagnosis'] = diagnosis_encoder.fit_transform(y['Diagnosis'])\n",
    "y['Severity'] = severity_encoder.fit_transform(y['Severity'])\n",
    "\n",
    "# Scale Features\n",
    "scaler = StandardScaler()\n",
    "X_scaled = scaler.fit_transform(X)\n",
    "\n",
    "X_train, X_test, y_train, y_test = train_test_split(\n",
    "    X_scaled, y, test_size=0.2, random_state=42\n",
    ")"
   ]
  },
  {
   "cell_type": "code",
   "execution_count": 4,
   "id": "9381d334",
   "metadata": {},
   "outputs": [],
   "source": [
    "# Initialize KNN Classifier\n",
    "knn = KNeighborsClassifier(\n",
    "    n_neighbors=17,        # You can tune this!\n",
    "    weights='uniform',    # Try 'distance' for weighted voting\n",
    "    metric='manhattan',   # Default (Euclidean)\n",
    "    p=2                   # p=2 -> Euclidean, p=1 -> Manhattan\n",
    ")\n",
    "\n",
    "multi_knn = MultiOutputClassifier(knn)\n",
    "\n",
    "# Train Model\n",
    "multi_knn.fit(X_train, y_train)\n",
    "\n",
    "# Predictions\n",
    "y_pred = multi_knn.predict(X_test)\n",
    "\n",
    "# Decode Predictions\n",
    "y_pred_diagnosis = diagnosis_encoder.inverse_transform(y_pred[:, 0])\n",
    "y_pred_severity = severity_encoder.inverse_transform(y_pred[:, 1])"
   ]
  },
  {
   "cell_type": "code",
   "execution_count": 5,
   "id": "7c5ecdf8",
   "metadata": {},
   "outputs": [
    {
     "name": "stdout",
     "output_type": "stream",
     "text": [
      "\n",
      "Diagnosis Classification Report:\n",
      "              precision    recall  f1-score   support\n",
      "\n",
      "           0       0.82      0.86      0.84        64\n",
      "           1       0.84      0.95      0.89       238\n",
      "           2       0.75      0.79      0.77        58\n",
      "           3       0.00      0.00      0.00        11\n",
      "           4       0.75      0.10      0.18        29\n",
      "\n",
      "    accuracy                           0.82       400\n",
      "   macro avg       0.63      0.54      0.54       400\n",
      "weighted avg       0.79      0.82      0.79       400\n",
      "\n",
      "\n",
      "Diagnosis Confusion Matrix:\n",
      "[[ 55   7   2   0   0]\n",
      " [  8 225   4   0   1]\n",
      " [  1  11  46   0   0]\n",
      " [  2   1   8   0   0]\n",
      " [  1  24   1   0   3]]\n",
      "\n",
      "Severity Classification Report:\n",
      "              precision    recall  f1-score   support\n",
      "\n",
      "           0       0.90      0.98      0.94       267\n",
      "           1       0.80      0.78      0.79        58\n",
      "           2       0.91      0.67      0.77        75\n",
      "\n",
      "    accuracy                           0.89       400\n",
      "   macro avg       0.87      0.81      0.83       400\n",
      "weighted avg       0.89      0.89      0.89       400\n",
      "\n",
      "\n",
      "Severity Confusion Matrix:\n",
      "[[261   2   4]\n",
      " [ 12  45   1]\n",
      " [ 16   9  50]]\n"
     ]
    },
    {
     "name": "stderr",
     "output_type": "stream",
     "text": [
      "c:\\Users\\Admin\\anaconda3\\Lib\\site-packages\\sklearn\\metrics\\_classification.py:1565: UndefinedMetricWarning: Precision is ill-defined and being set to 0.0 in labels with no predicted samples. Use `zero_division` parameter to control this behavior.\n",
      "  _warn_prf(average, modifier, f\"{metric.capitalize()} is\", len(result))\n",
      "c:\\Users\\Admin\\anaconda3\\Lib\\site-packages\\sklearn\\metrics\\_classification.py:1565: UndefinedMetricWarning: Precision is ill-defined and being set to 0.0 in labels with no predicted samples. Use `zero_division` parameter to control this behavior.\n",
      "  _warn_prf(average, modifier, f\"{metric.capitalize()} is\", len(result))\n",
      "c:\\Users\\Admin\\anaconda3\\Lib\\site-packages\\sklearn\\metrics\\_classification.py:1565: UndefinedMetricWarning: Precision is ill-defined and being set to 0.0 in labels with no predicted samples. Use `zero_division` parameter to control this behavior.\n",
      "  _warn_prf(average, modifier, f\"{metric.capitalize()} is\", len(result))\n"
     ]
    }
   ],
   "source": [
    "# Diagnosis Evaluation\n",
    "print(\"\\nDiagnosis Classification Report:\")\n",
    "print(classification_report(y_test['Diagnosis'], y_pred[:, 0]))\n",
    "\n",
    "print(\"\\nDiagnosis Confusion Matrix:\")\n",
    "print(confusion_matrix(y_test['Diagnosis'], y_pred[:, 0]))\n",
    "\n",
    "# Severity Evaluation\n",
    "print(\"\\nSeverity Classification Report:\")\n",
    "print(classification_report(y_test['Severity'], y_pred[:, 1]))\n",
    "\n",
    "print(\"\\nSeverity Confusion Matrix:\")\n",
    "print(confusion_matrix(y_test['Severity'], y_pred[:, 1]))"
   ]
  }
 ],
 "metadata": {
  "kernelspec": {
   "display_name": "base",
   "language": "python",
   "name": "python3"
  },
  "language_info": {
   "codemirror_mode": {
    "name": "ipython",
    "version": 3
   },
   "file_extension": ".py",
   "mimetype": "text/x-python",
   "name": "python",
   "nbconvert_exporter": "python",
   "pygments_lexer": "ipython3",
   "version": "3.12.3"
  }
 },
 "nbformat": 4,
 "nbformat_minor": 5
}
