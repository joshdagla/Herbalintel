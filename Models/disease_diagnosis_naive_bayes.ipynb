{
 "cells": [
  {
   "cell_type": "code",
   "execution_count": 1,
   "id": "4d191cfd",
   "metadata": {},
   "outputs": [],
   "source": [
    "# Import Libraries\n",
    "import pandas as pd\n",
    "import numpy as np\n",
    "from sklearn.model_selection import train_test_split\n",
    "from sklearn.preprocessing import LabelEncoder\n",
    "from sklearn.naive_bayes import GaussianNB\n",
    "from sklearn.multioutput import MultiOutputClassifier\n",
    "from sklearn.metrics import classification_report, confusion_matrix"
   ]
  },
  {
   "cell_type": "code",
   "execution_count": 2,
   "id": "fe771a62",
   "metadata": {},
   "outputs": [],
   "source": [
    "# Load Dataset\n",
    "disease_df = pd.read_csv('disease_diagnosis.csv')"
   ]
  },
  {
   "cell_type": "code",
   "execution_count": 3,
   "id": "fe3f3635",
   "metadata": {},
   "outputs": [
    {
     "name": "stderr",
     "output_type": "stream",
     "text": [
      "C:\\Users\\Admin\\AppData\\Local\\Temp\\ipykernel_17032\\1684337388.py:29: SettingWithCopyWarning: \n",
      "A value is trying to be set on a copy of a slice from a DataFrame.\n",
      "Try using .loc[row_indexer,col_indexer] = value instead\n",
      "\n",
      "See the caveats in the documentation: https://pandas.pydata.org/pandas-docs/stable/user_guide/indexing.html#returning-a-view-versus-a-copy\n",
      "  y['Diagnosis'] = diagnosis_encoder.fit_transform(y['Diagnosis'])\n",
      "C:\\Users\\Admin\\AppData\\Local\\Temp\\ipykernel_17032\\1684337388.py:30: SettingWithCopyWarning: \n",
      "A value is trying to be set on a copy of a slice from a DataFrame.\n",
      "Try using .loc[row_indexer,col_indexer] = value instead\n",
      "\n",
      "See the caveats in the documentation: https://pandas.pydata.org/pandas-docs/stable/user_guide/indexing.html#returning-a-view-versus-a-copy\n",
      "  y['Severity'] = severity_encoder.fit_transform(y['Severity'])\n"
     ]
    }
   ],
   "source": [
    "# Preprocessing\n",
    "\n",
    "# Split Blood Pressure into Systolic and Diastolic\n",
    "bp_split = disease_df['Blood_Pressure_mmHg'].str.split('/', expand=True).astype(float)\n",
    "disease_df['BP_Systolic'] = bp_split[0]\n",
    "disease_df['BP_Diastolic'] = bp_split[1]\n",
    "\n",
    "# One-Hot Encode Symptoms\n",
    "all_symptoms = pd.unique(\n",
    "    disease_df[['Symptom_1', 'Symptom_2', 'Symptom_3']].values.ravel()\n",
    ")\n",
    "\n",
    "for sym in all_symptoms:\n",
    "    disease_df[f\"symptom_{sym}\"] = disease_df[['Symptom_1', 'Symptom_2', 'Symptom_3']].isin([sym]).any(axis=1).astype(int)\n",
    "\n",
    "# Feature and Target Selection\n",
    "features = ['Heart_Rate_bpm', 'Body_Temperature_C',\n",
    "            'Oxygen_Saturation_%', 'BP_Systolic', 'BP_Diastolic'] + \\\n",
    "           [f\"symptom_{sym}\" for sym in all_symptoms]\n",
    "\n",
    "X = disease_df[features]\n",
    "# Target Columns\n",
    "y = disease_df[['Diagnosis', 'Severity']]\n",
    "\n",
    "# Encode each target\n",
    "diagnosis_encoder = LabelEncoder()\n",
    "severity_encoder = LabelEncoder()\n",
    "\n",
    "y['Diagnosis'] = diagnosis_encoder.fit_transform(y['Diagnosis'])\n",
    "y['Severity'] = severity_encoder.fit_transform(y['Severity'])\n",
    "\n",
    "X_train, X_test, y_train, y_test = train_test_split(\n",
    "    X, y, test_size=0.2, random_state=42\n",
    ")"
   ]
  },
  {
   "cell_type": "code",
   "execution_count": 4,
   "id": "2c1283c7",
   "metadata": {},
   "outputs": [],
   "source": [
    "# Initialize Naive Bayes Classifier\n",
    "nb = GaussianNB()\n",
    "multi_nb = MultiOutputClassifier(nb)\n",
    "\n",
    "#Train Model\n",
    "multi_nb.fit(X_train,y_train)\n",
    "\n",
    "# Predictions\n",
    "y_pred = multi_nb.predict(X_test)\n",
    "\n",
    "# Decode Predictions\n",
    "y_pred_diagnosis = diagnosis_encoder.inverse_transform(y_pred[:, 0])\n",
    "y_pred_severity = severity_encoder.inverse_transform(y_pred[:, 1])"
   ]
  },
  {
   "cell_type": "code",
   "execution_count": 5,
   "id": "f0455b5e",
   "metadata": {},
   "outputs": [
    {
     "name": "stdout",
     "output_type": "stream",
     "text": [
      "\n",
      "Diagnosis Classification Report:\n",
      "              precision    recall  f1-score   support\n",
      "\n",
      "           0       0.63      1.00      0.77        64\n",
      "           1       0.97      0.71      0.82       238\n",
      "           2       0.60      0.97      0.74        58\n",
      "           3       0.50      0.45      0.48        11\n",
      "           4       1.00      0.72      0.84        29\n",
      "\n",
      "    accuracy                           0.79       400\n",
      "   macro avg       0.74      0.77      0.73       400\n",
      "weighted avg       0.85      0.79      0.79       400\n",
      "\n",
      "\n",
      "Diagnosis Confusion Matrix:\n",
      "[[ 64   0   0   0   0]\n",
      " [ 32 168  33   5   0]\n",
      " [  2   0  56   0   0]\n",
      " [  1   0   5   5   0]\n",
      " [  3   5   0   0  21]]\n",
      "\n",
      "Severity Classification Report:\n",
      "              precision    recall  f1-score   support\n",
      "\n",
      "           0       1.00      0.86      0.92       267\n",
      "           1       0.52      1.00      0.69        58\n",
      "           2       1.00      0.80      0.89        75\n",
      "\n",
      "    accuracy                           0.87       400\n",
      "   macro avg       0.84      0.89      0.83       400\n",
      "weighted avg       0.93      0.87      0.88       400\n",
      "\n",
      "\n",
      "Severity Confusion Matrix:\n",
      "[[229  38   0]\n",
      " [  0  58   0]\n",
      " [  0  15  60]]\n"
     ]
    }
   ],
   "source": [
    "# Diagnosis Evaluation\n",
    "print(\"\\nDiagnosis Classification Report:\")\n",
    "print(classification_report(y_test['Diagnosis'], y_pred[:, 0]))\n",
    "\n",
    "print(\"\\nDiagnosis Confusion Matrix:\")\n",
    "print(confusion_matrix(y_test['Diagnosis'], y_pred[:, 0]))\n",
    "\n",
    "# Severity Evaluation\n",
    "print(\"\\nSeverity Classification Report:\")\n",
    "print(classification_report(y_test['Severity'], y_pred[:, 1]))\n",
    "\n",
    "print(\"\\nSeverity Confusion Matrix:\")\n",
    "print(confusion_matrix(y_test['Severity'], y_pred[:, 1]))"
   ]
  }
 ],
 "metadata": {
  "kernelspec": {
   "display_name": "base",
   "language": "python",
   "name": "python3"
  },
  "language_info": {
   "codemirror_mode": {
    "name": "ipython",
    "version": 3
   },
   "file_extension": ".py",
   "mimetype": "text/x-python",
   "name": "python",
   "nbconvert_exporter": "python",
   "pygments_lexer": "ipython3",
   "version": "3.12.3"
  }
 },
 "nbformat": 4,
 "nbformat_minor": 5
}
