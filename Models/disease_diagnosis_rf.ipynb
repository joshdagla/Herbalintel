{
 "cells": [
  {
   "cell_type": "code",
   "execution_count": 1,
   "id": "1bc085ac",
   "metadata": {},
   "outputs": [],
   "source": [
    "# Import Libraries\n",
    "import pandas as pd\n",
    "import numpy as np\n",
    "from sklearn.model_selection import train_test_split\n",
    "from sklearn.preprocessing import LabelEncoder\n",
    "from sklearn.ensemble import RandomForestClassifier\n",
    "from sklearn.multioutput import MultiOutputClassifier\n",
    "from sklearn.metrics import classification_report, confusion_matrix"
   ]
  },
  {
   "cell_type": "code",
   "execution_count": 2,
   "id": "6a6a056b",
   "metadata": {},
   "outputs": [],
   "source": [
    "# Load Dataset\n",
    "disease_df = pd.read_csv('disease_diagnosis.csv')"
   ]
  },
  {
   "cell_type": "code",
   "execution_count": 3,
   "id": "f965ae7a",
   "metadata": {},
   "outputs": [
    {
     "name": "stderr",
     "output_type": "stream",
     "text": [
      "C:\\Users\\Admin\\AppData\\Local\\Temp\\ipykernel_9428\\804452445.py:27: SettingWithCopyWarning: \n",
      "A value is trying to be set on a copy of a slice from a DataFrame.\n",
      "Try using .loc[row_indexer,col_indexer] = value instead\n",
      "\n",
      "See the caveats in the documentation: https://pandas.pydata.org/pandas-docs/stable/user_guide/indexing.html#returning-a-view-versus-a-copy\n",
      "  y['Diagnosis'] = diagnosis_encoder.fit_transform(y['Diagnosis'])\n",
      "C:\\Users\\Admin\\AppData\\Local\\Temp\\ipykernel_9428\\804452445.py:28: SettingWithCopyWarning: \n",
      "A value is trying to be set on a copy of a slice from a DataFrame.\n",
      "Try using .loc[row_indexer,col_indexer] = value instead\n",
      "\n",
      "See the caveats in the documentation: https://pandas.pydata.org/pandas-docs/stable/user_guide/indexing.html#returning-a-view-versus-a-copy\n",
      "  y['Severity'] = severity_encoder.fit_transform(y['Severity'])\n"
     ]
    }
   ],
   "source": [
    "# Split Blood Pressure into Systolic and Diastolic\n",
    "bp_split = disease_df['Blood_Pressure_mmHg'].str.split('/', expand=True).astype(float)\n",
    "disease_df['BP_Systolic'] = bp_split[0]\n",
    "disease_df['BP_Diastolic'] = bp_split[1]\n",
    "\n",
    "# One-Hot Encode Symptoms\n",
    "all_symptoms = pd.unique(\n",
    "    disease_df[['Symptom_1', 'Symptom_2', 'Symptom_3']].values.ravel()\n",
    ")\n",
    "\n",
    "for sym in all_symptoms:\n",
    "    disease_df[f\"symptom_{sym}\"] = disease_df[['Symptom_1', 'Symptom_2', 'Symptom_3']].isin([sym]).any(axis=1).astype(int)\n",
    "\n",
    "# Feature and Target Selection\n",
    "features = ['Heart_Rate_bpm', 'Body_Temperature_C',\n",
    "            'Oxygen_Saturation_%', 'BP_Systolic', 'BP_Diastolic'] + \\\n",
    "           [f\"symptom_{sym}\" for sym in all_symptoms]\n",
    "\n",
    "X = disease_df[features]\n",
    "# Target Columns\n",
    "y = disease_df[['Diagnosis', 'Severity']]\n",
    "\n",
    "# Encode each target\n",
    "diagnosis_encoder = LabelEncoder()\n",
    "severity_encoder = LabelEncoder()\n",
    "\n",
    "y['Diagnosis'] = diagnosis_encoder.fit_transform(y['Diagnosis'])\n",
    "y['Severity'] = severity_encoder.fit_transform(y['Severity'])\n",
    "\n",
    "X_train, X_test, y_train, y_test = train_test_split(\n",
    "    X, y, test_size=0.2, random_state=42\n",
    ")"
   ]
  },
  {
   "cell_type": "code",
   "execution_count": 4,
   "id": "7b5b78ee",
   "metadata": {},
   "outputs": [],
   "source": [
    "# Initialize Random Forest Classifier\n",
    "rf = RandomForestClassifier(n_estimators=100, random_state=42)\n",
    "multi_rf = MultiOutputClassifier(rf)\n",
    "\n",
    "# Train Model\n",
    "multi_rf.fit(X_train, y_train)\n",
    "\n",
    "y_pred = multi_rf.predict(X_test)\n",
    "\n",
    "# Decode Predictions\n",
    "y_pred_diagnosis = diagnosis_encoder.inverse_transform(y_pred[:, 0])\n",
    "y_pred_severity = severity_encoder.inverse_transform(y_pred[:, 1])"
   ]
  },
  {
   "cell_type": "code",
   "execution_count": 5,
   "id": "f4a9dc69",
   "metadata": {},
   "outputs": [
    {
     "name": "stdout",
     "output_type": "stream",
     "text": [
      "\n",
      "Diagnosis Classification Report:\n",
      "              precision    recall  f1-score   support\n",
      "\n",
      "           0       1.00      1.00      1.00        64\n",
      "           1       1.00      1.00      1.00       238\n",
      "           2       0.95      1.00      0.97        58\n",
      "           3       1.00      0.73      0.84        11\n",
      "           4       1.00      0.97      0.98        29\n",
      "\n",
      "    accuracy                           0.99       400\n",
      "   macro avg       0.99      0.94      0.96       400\n",
      "weighted avg       0.99      0.99      0.99       400\n",
      "\n",
      "\n",
      "Diagnosis Confusion Matrix:\n",
      "[[ 64   0   0   0   0]\n",
      " [  0 238   0   0   0]\n",
      " [  0   0  58   0   0]\n",
      " [  0   0   3   8   0]\n",
      " [  0   1   0   0  28]]\n",
      "\n",
      "Severity Classification Report:\n",
      "              precision    recall  f1-score   support\n",
      "\n",
      "           0       1.00      1.00      1.00       267\n",
      "           1       0.95      1.00      0.97        58\n",
      "           2       1.00      0.96      0.98        75\n",
      "\n",
      "    accuracy                           0.99       400\n",
      "   macro avg       0.98      0.99      0.98       400\n",
      "weighted avg       0.99      0.99      0.99       400\n",
      "\n",
      "\n",
      "Severity Confusion Matrix:\n",
      "[[267   0   0]\n",
      " [  0  58   0]\n",
      " [  0   3  72]]\n"
     ]
    }
   ],
   "source": [
    "# Diagnosis Evaluation\n",
    "print(\"\\nDiagnosis Classification Report:\")\n",
    "print(classification_report(y_test['Diagnosis'], y_pred[:, 0]))\n",
    "\n",
    "print(\"\\nDiagnosis Confusion Matrix:\")\n",
    "print(confusion_matrix(y_test['Diagnosis'], y_pred[:, 0]))\n",
    "\n",
    "# Severity Evaluation\n",
    "print(\"\\nSeverity Classification Report:\")\n",
    "print(classification_report(y_test['Severity'], y_pred[:, 1]))\n",
    "\n",
    "print(\"\\nSeverity Confusion Matrix:\")\n",
    "print(confusion_matrix(y_test['Severity'], y_pred[:, 1]))"
   ]
  },
  {
   "cell_type": "code",
   "execution_count": 24,
   "id": "fbb73199",
   "metadata": {},
   "outputs": [
    {
     "data": {
      "text/plain": [
       "['rf_diagnosis_model.pkl']"
      ]
     },
     "execution_count": 24,
     "metadata": {},
     "output_type": "execute_result"
    }
   ],
   "source": [
    "import joblib\n",
    "\n",
    "# Assuming these are your trained scaler and model\n",
    "joblib.dump(multi_rf, 'rf_diagnosis_model.pkl')"
   ]
  },
  {
   "cell_type": "code",
   "execution_count": 26,
   "id": "8b3a6d40",
   "metadata": {},
   "outputs": [
    {
     "name": "stdout",
     "output_type": "stream",
     "text": [
      "Input Vector before prediction:  [[  1.    0.    0.    0.    0.    0.    0.    0.   73.    0.   87.   38.9\n",
      "   98.  167.   79. ]]\n",
      "\n",
      "User inputs: Body Ache, Shortness of Breath, Fatigue, 73, female, 87, 38.9, 98, 167/79\n",
      "\n",
      "Predicted Diagnosis: Common Cold, Severe\n"
     ]
    },
    {
     "name": "stderr",
     "output_type": "stream",
     "text": [
      "c:\\Users\\Admin\\anaconda3\\Lib\\site-packages\\sklearn\\base.py:493: UserWarning: X does not have valid feature names, but RandomForestClassifier was fitted with feature names\n",
      "  warnings.warn(\n",
      "c:\\Users\\Admin\\anaconda3\\Lib\\site-packages\\sklearn\\base.py:493: UserWarning: X does not have valid feature names, but RandomForestClassifier was fitted with feature names\n",
      "  warnings.warn(\n"
     ]
    }
   ],
   "source": [
    "import joblib\n",
    "import numpy as np\n",
    "import pandas as pd\n",
    "\n",
    "# Load saved scaler and model\n",
    "multi_rf = joblib.load('rf_diagnosis_model.pkl')\n",
    "\n",
    "# List of all possible symptoms (adjust this to match your training set)\n",
    "all_symptoms = [\n",
    "    'Fatigue',\n",
    "    'Sore throat',\n",
    "    'Fever',\n",
    "    'Cough',\n",
    "    'Body ache',\n",
    "    'Shortness of breath',\n",
    "    'Headache',\n",
    "    'Runny nose'\n",
    "]\n",
    "\n",
    "# Define mappings for diagnosis and severity\n",
    "diagnosis_labels = {\n",
    "    0: \"Common Cold\",\n",
    "    1: \"Flu\",\n",
    "    2: \"Pneumonia\",\n",
    "    3: \"Bronchitis\",\n",
    "    4: \"Viral Fever\"\n",
    "}\n",
    "\n",
    "severity_labels = {\n",
    "    0: \"Mild\",\n",
    "    1: \"Moderate\",\n",
    "    2: \"Severe\"\n",
    "}\n",
    "\n",
    "\n",
    "def create_feature_vector(symptom1, symptom2, symptom3, age, gender, heart_rate, body_temp, oxy_saturation, bp_systolic, bp_diastolic):\n",
    "    # Create a binary vector for symptoms\n",
    "    symptom_vector = [0] * len(all_symptoms)\n",
    "    for sym in [symptom1, symptom2, symptom3]:\n",
    "        if sym in all_symptoms:\n",
    "            index = all_symptoms.index(sym)\n",
    "            symptom_vector[index] = 1\n",
    "\n",
    "    # Append other numeric features\n",
    "    additional_features = [age, gender, heart_rate, body_temp, oxy_saturation, bp_systolic, bp_diastolic]\n",
    "    full_features = symptom_vector + additional_features\n",
    "    \n",
    "    return np.array([full_features])  # Correct: returns 2D\n",
    "\n",
    "# Example user input\n",
    "symptom1 = input(\"Enter Symptom A: \")\n",
    "symptom2 = input(\"Enter Symptom B: \")\n",
    "symptom3 = input(\"Enter Symptom C: \")\n",
    "age = int(input(\"Enter Age: \"))\n",
    "\n",
    "# Gender Input — string based\n",
    "gender_input = input(\"Enter Gender (Male or Female): \").strip().lower()\n",
    "if gender_input == \"male\":\n",
    "    gender = 1\n",
    "elif gender_input == \"female\":\n",
    "    gender = 0\n",
    "else:\n",
    "    print(\"Invalid gender input! Please enter 'Male' or 'Female'.\")\n",
    "    exit()\n",
    "\n",
    "heart_rate = int(input(\"Enter Heart Rate: \"))\n",
    "body_temp = float(input(\"Enter Body Temperature: \"))\t\n",
    "oxy_saturation = int(input(\"Enter Oxygen Saturation: \"))\n",
    "\n",
    "# Accept blood pressure in \"systolic/diastolic\" format\n",
    "bp_input = input(\"Enter Blood Pressure (Systolic/Diastolic): \")\n",
    "try:\n",
    "    bp_systolic, bp_diastolic = map(int, bp_input.strip().split('/'))\n",
    "except ValueError:\n",
    "    print(\"Invalid format! Please enter as Systolic/Diastolic (e.g. 132/91)\")\n",
    "    exit()\n",
    "\n",
    "# Create feature vector\n",
    "X_input = create_feature_vector(symptom1, symptom2, symptom3, age, gender, heart_rate, body_temp, oxy_saturation, bp_systolic, bp_diastolic)\n",
    "\n",
    "print(\"Input Vector before prediction: \", X_input)\n",
    "\n",
    "# Make prediction\n",
    "prediction = multi_rf.predict(X_input)\n",
    "\n",
    "# Map numerical prediction to labels\n",
    "diagnosis = diagnosis_labels.get(prediction[0][0], \"Unknown Diagnosis\")\n",
    "severity = severity_labels.get(prediction[0][1], \"Unknown Severity\")\n",
    "\n",
    "print(f\"\\nUser inputs: {symptom1}, {symptom2}, {symptom3}, {age}, {gender_input}, {heart_rate}, {body_temp}, {oxy_saturation}, {bp_input}\\n\")\n",
    "\n",
    "print(f\"Predicted Diagnosis: {diagnosis}, {severity}\")"
   ]
  }
 ],
 "metadata": {
  "kernelspec": {
   "display_name": "base",
   "language": "python",
   "name": "python3"
  },
  "language_info": {
   "codemirror_mode": {
    "name": "ipython",
    "version": 3
   },
   "file_extension": ".py",
   "mimetype": "text/x-python",
   "name": "python",
   "nbconvert_exporter": "python",
   "pygments_lexer": "ipython3",
   "version": "3.12.3"
  }
 },
 "nbformat": 4,
 "nbformat_minor": 5
}
