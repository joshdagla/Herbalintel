{
 "cells": [
  {
   "cell_type": "code",
   "execution_count": 1,
   "id": "6d59cf3c",
   "metadata": {},
   "outputs": [],
   "source": [
    "import pandas as pd\n",
    "import numpy as np\n",
    "from sklearn.model_selection import train_test_split\n",
    "from sklearn.preprocessing import LabelEncoder, StandardScaler\n",
    "from sklearn.neural_network import MLPClassifier\n",
    "from sklearn.metrics import classification_report, confusion_matrix"
   ]
  },
  {
   "cell_type": "code",
   "execution_count": 2,
   "id": "a21d784d",
   "metadata": {},
   "outputs": [],
   "source": [
    "# Load Dataset\n",
    "disease_df = pd.read_csv('disease_diagnosis.csv')"
   ]
  },
  {
   "cell_type": "code",
   "execution_count": 3,
   "id": "2ba09e26",
   "metadata": {},
   "outputs": [
    {
     "name": "stderr",
     "output_type": "stream",
     "text": [
      "C:\\Users\\Admin\\AppData\\Local\\Temp\\ipykernel_688\\2116128818.py:29: SettingWithCopyWarning: \n",
      "A value is trying to be set on a copy of a slice from a DataFrame.\n",
      "Try using .loc[row_indexer,col_indexer] = value instead\n",
      "\n",
      "See the caveats in the documentation: https://pandas.pydata.org/pandas-docs/stable/user_guide/indexing.html#returning-a-view-versus-a-copy\n",
      "  y['Diagnosis'] = diagnosis_encoder.fit_transform(y['Diagnosis'])\n",
      "C:\\Users\\Admin\\AppData\\Local\\Temp\\ipykernel_688\\2116128818.py:30: SettingWithCopyWarning: \n",
      "A value is trying to be set on a copy of a slice from a DataFrame.\n",
      "Try using .loc[row_indexer,col_indexer] = value instead\n",
      "\n",
      "See the caveats in the documentation: https://pandas.pydata.org/pandas-docs/stable/user_guide/indexing.html#returning-a-view-versus-a-copy\n",
      "  z['Severity'] = severity_encoder.fit_transform(z['Severity'])\n"
     ]
    }
   ],
   "source": [
    "# === Preprocessing ===\n",
    "\n",
    "# Extract systolic and diastolic from Blood Pressure\n",
    "bp_split = disease_df['Blood_Pressure_mmHg'].str.split('/', expand=True).astype(float)\n",
    "disease_df['BP_Systolic'] = bp_split[0]\n",
    "disease_df['BP_Diastolic'] = bp_split[1]\n",
    "\n",
    "# One-Hot Encode Symptoms\n",
    "all_symptoms = pd.unique(\n",
    "    disease_df[['Symptom_1', 'Symptom_2', 'Symptom_3']].values.ravel()\n",
    ")\n",
    "\n",
    "for sym in all_symptoms:\n",
    "    disease_df[f\"symptom_{sym}\"] = disease_df[['Symptom_1', 'Symptom_2', 'Symptom_3']].isin([sym]).any(axis=1).astype(int)\n",
    "\n",
    "# Features and Targets\n",
    "features = ['Heart_Rate_bpm', 'Body_Temperature_C', \n",
    "            'Oxygen_Saturation_%', 'BP_Systolic', 'BP_Diastolic'] + \\\n",
    "           [f\"symptom_{sym}\" for sym in all_symptoms]\n",
    "\n",
    "X = disease_df[features]\n",
    "y = disease_df[['Diagnosis']]\n",
    "z = disease_df[['Severity']]\n",
    "\n",
    "# Label Encoding\n",
    "diagnosis_encoder = LabelEncoder()\n",
    "severity_encoder = LabelEncoder()\n",
    "\n",
    "y['Diagnosis'] = diagnosis_encoder.fit_transform(y['Diagnosis'])\n",
    "z['Severity'] = severity_encoder.fit_transform(z['Severity'])"
   ]
  },
  {
   "cell_type": "code",
   "execution_count": 4,
   "id": "4b1aa10a",
   "metadata": {},
   "outputs": [],
   "source": [
    "# Train-test split for Diagnosis\n",
    "X_train, X_test, y_train, y_test = train_test_split(\n",
    "    X, y, test_size=0.2, random_state=42\n",
    ")\n",
    "\n",
    "# --- Feature Scaling ---\n",
    "scaler = StandardScaler()\n",
    "X_train_scaled = scaler.fit_transform(X_train)\n",
    "X_test_scaled = scaler.transform(X_test)\n",
    "\n",
    "# === Model for Diagnosis ===\n",
    "mlp_diag = MLPClassifier(\n",
    "    hidden_layer_sizes=(200, 100, 50),\n",
    "    activation='relu',\n",
    "    solver='adam',\n",
    "    max_iter=2000,\n",
    "    early_stopping=True,\n",
    "    random_state=42\n",
    ")\n",
    "\n",
    "mlp_diag.fit(X_train_scaled, y_train[\"Diagnosis\"])\n",
    "y_pred_diag = mlp_diag.predict(X_test_scaled)"
   ]
  },
  {
   "cell_type": "code",
   "execution_count": 5,
   "id": "944e15ce",
   "metadata": {},
   "outputs": [],
   "source": [
    "# Train-test split for Severity\n",
    "X_train, X_test, z_train, z_test = train_test_split(\n",
    "    X, z, test_size=0.2, random_state=42\n",
    ")\n",
    "\n",
    "# --- Feature Scaling ---\n",
    "scaler = StandardScaler()\n",
    "X_train_scaled = scaler.fit_transform(X_train)\n",
    "X_test_scaled = scaler.transform(X_test)\n",
    "\n",
    "# === Model for Severity ===\n",
    "mlp_sev = MLPClassifier(\n",
    "    hidden_layer_sizes=(200, 100, 50),\n",
    "    activation='relu',\n",
    "    solver='adam',\n",
    "    max_iter=2000,\n",
    "    early_stopping=True,\n",
    "    random_state=42\n",
    ")\n",
    "\n",
    "mlp_sev.fit(X_train_scaled, z_train['Severity'])\n",
    "z_pred_sev = mlp_sev.predict(X_test_scaled)"
   ]
  },
  {
   "cell_type": "code",
   "execution_count": 6,
   "id": "78f835cf",
   "metadata": {},
   "outputs": [
    {
     "name": "stdout",
     "output_type": "stream",
     "text": [
      "=== Diagnosis Classification Report ===\n",
      "              precision    recall  f1-score   support\n",
      "\n",
      "           0       0.98      0.94      0.96        64\n",
      "           1       0.96      0.97      0.97       238\n",
      "           2       0.95      0.95      0.95        58\n",
      "           3       1.00      0.73      0.84        11\n",
      "           4       0.84      0.90      0.87        29\n",
      "\n",
      "    accuracy                           0.95       400\n",
      "   macro avg       0.95      0.90      0.92       400\n",
      "weighted avg       0.95      0.95      0.95       400\n",
      "\n",
      "Diagnosis Confusion Matrix:\n",
      "[[ 60   3   1   0   0]\n",
      " [  0 232   1   0   5]\n",
      " [  0   3  55   0   0]\n",
      " [  1   1   1   8   0]\n",
      " [  0   3   0   0  26]]\n",
      "\n",
      "=== Severity Classification Report ===\n",
      "              precision    recall  f1-score   support\n",
      "\n",
      "           0       0.98      0.99      0.98       267\n",
      "           1       0.84      0.91      0.88        58\n",
      "           2       0.96      0.87      0.91        75\n",
      "\n",
      "    accuracy                           0.95       400\n",
      "   macro avg       0.92      0.92      0.92       400\n",
      "weighted avg       0.95      0.95      0.95       400\n",
      "\n",
      "Severity Confusion Matrix:\n",
      "[[263   3   1]\n",
      " [  3  53   2]\n",
      " [  3   7  65]]\n"
     ]
    }
   ],
   "source": [
    "#Diagnosis Model Evaluation\n",
    "print(\"=== Diagnosis Classification Report ===\")\n",
    "print(classification_report(y_test['Diagnosis'], y_pred_diag))\n",
    "print(\"Diagnosis Confusion Matrix:\")\n",
    "print(confusion_matrix(y_test['Diagnosis'], y_pred_diag))\n",
    "\n",
    "#Severity Model Evaluation\n",
    "print(\"\\n=== Severity Classification Report ===\")\n",
    "print(classification_report(z_test['Severity'], z_pred_sev))\n",
    "print(\"Severity Confusion Matrix:\")\n",
    "print(confusion_matrix(z_test['Severity'], z_pred_sev))"
   ]
  }
 ],
 "metadata": {
  "kernelspec": {
   "display_name": "base",
   "language": "python",
   "name": "python3"
  },
  "language_info": {
   "codemirror_mode": {
    "name": "ipython",
    "version": 3
   },
   "file_extension": ".py",
   "mimetype": "text/x-python",
   "name": "python",
   "nbconvert_exporter": "python",
   "pygments_lexer": "ipython3",
   "version": "3.12.3"
  }
 },
 "nbformat": 4,
 "nbformat_minor": 5
}
