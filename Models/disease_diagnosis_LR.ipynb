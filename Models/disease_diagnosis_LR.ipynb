{
 "cells": [
  {
   "cell_type": "code",
   "execution_count": 1,
   "id": "e6baefe6",
   "metadata": {},
   "outputs": [],
   "source": [
    "# Import Libraries\n",
    "import pandas as pd\n",
    "import numpy as np\n",
    "from sklearn.model_selection import train_test_split\n",
    "from sklearn.preprocessing import LabelEncoder, StandardScaler\n",
    "from sklearn.linear_model import LogisticRegression\n",
    "from sklearn.multioutput import MultiOutputClassifier\n",
    "from sklearn.metrics import classification_report, confusion_matrix"
   ]
  },
  {
   "cell_type": "code",
   "execution_count": 2,
   "id": "e35ee2f5",
   "metadata": {},
   "outputs": [],
   "source": [
    "# Load Dataset\n",
    "disease_df = pd.read_csv('disease_diagnosis.csv')"
   ]
  },
  {
   "cell_type": "code",
   "execution_count": 3,
   "id": "ad2b20b6",
   "metadata": {},
   "outputs": [
    {
     "name": "stderr",
     "output_type": "stream",
     "text": [
      "C:\\Users\\Admin\\AppData\\Local\\Temp\\ipykernel_2424\\1643372813.py:33: SettingWithCopyWarning: \n",
      "A value is trying to be set on a copy of a slice from a DataFrame.\n",
      "Try using .loc[row_indexer,col_indexer] = value instead\n",
      "\n",
      "See the caveats in the documentation: https://pandas.pydata.org/pandas-docs/stable/user_guide/indexing.html#returning-a-view-versus-a-copy\n",
      "  y['Diagnosis'] = diagnosis_encoder.fit_transform(y['Diagnosis'])\n",
      "C:\\Users\\Admin\\AppData\\Local\\Temp\\ipykernel_2424\\1643372813.py:34: SettingWithCopyWarning: \n",
      "A value is trying to be set on a copy of a slice from a DataFrame.\n",
      "Try using .loc[row_indexer,col_indexer] = value instead\n",
      "\n",
      "See the caveats in the documentation: https://pandas.pydata.org/pandas-docs/stable/user_guide/indexing.html#returning-a-view-versus-a-copy\n",
      "  y['Severity'] = severity_encoder.fit_transform(y['Severity'])\n"
     ]
    }
   ],
   "source": [
    "#Preprocessing\n",
    "\n",
    "# Split Blood Pressure into Systolic and Diastolic\n",
    "bp_split = disease_df['Blood_Pressure_mmHg'].str.split('/', expand=True).astype(float)\n",
    "disease_df['BP_Systolic'] = bp_split[0]\n",
    "disease_df['BP_Diastolic'] = bp_split[1]\n",
    "\n",
    "# One-Hot Encode Symptoms\n",
    "all_symptoms = pd.unique(\n",
    "    disease_df[['Symptom_1', 'Symptom_2', 'Symptom_3']].values.ravel()\n",
    ")\n",
    "\n",
    "for sym in all_symptoms:\n",
    "    disease_df[f\"symptom_{sym}\"] = disease_df[['Symptom_1', 'Symptom_2', 'Symptom_3']].isin([sym]).any(axis=1).astype(int)\n",
    "\n",
    "# Feature and Target Selection\n",
    "features = ['Heart_Rate_bpm', 'Body_Temperature_C',\n",
    "            'Oxygen_Saturation_%', 'BP_Systolic', 'BP_Diastolic'] + \\\n",
    "           [f\"symptom_{sym}\" for sym in all_symptoms]\n",
    "\n",
    "X = disease_df[features]\n",
    "# Target Columns\n",
    "y = disease_df[['Diagnosis', 'Severity']]\n",
    "\n",
    "# Encode each target\n",
    "diagnosis_encoder = LabelEncoder()\n",
    "severity_encoder = LabelEncoder()\n",
    "\n",
    "# Scale Features (important for logistic regression!)\n",
    "scaler_lr = StandardScaler()\n",
    "X_scaled = scaler_lr.fit_transform(X)\n",
    "\n",
    "y['Diagnosis'] = diagnosis_encoder.fit_transform(y['Diagnosis'])\n",
    "y['Severity'] = severity_encoder.fit_transform(y['Severity'])\n",
    "\n",
    "X_train, X_test, y_train, y_test = train_test_split(\n",
    "    X_scaled, y, test_size=0.2, random_state=42\n",
    ")"
   ]
  },
  {
   "cell_type": "code",
   "execution_count": 4,
   "id": "49ed6335",
   "metadata": {},
   "outputs": [
    {
     "name": "stderr",
     "output_type": "stream",
     "text": [
      "c:\\Users\\Admin\\anaconda3\\Lib\\site-packages\\sklearn\\linear_model\\_logistic.py:1247: FutureWarning: 'multi_class' was deprecated in version 1.5 and will be removed in 1.7. From then on, it will always use 'multinomial'. Leave it to its default value to avoid this warning.\n",
      "  warnings.warn(\n",
      "c:\\Users\\Admin\\anaconda3\\Lib\\site-packages\\sklearn\\linear_model\\_logistic.py:1247: FutureWarning: 'multi_class' was deprecated in version 1.5 and will be removed in 1.7. From then on, it will always use 'multinomial'. Leave it to its default value to avoid this warning.\n",
      "  warnings.warn(\n"
     ]
    }
   ],
   "source": [
    "# Initialize Decision Tree Classifier\n",
    "lr = LogisticRegression(\n",
    "    multi_class='multinomial',\n",
    "    solver='lbfgs',\n",
    "    max_iter=1000,\n",
    "    random_state=42\n",
    ")\n",
    "multi_lr = MultiOutputClassifier(lr)\n",
    "\n",
    "#Train Model\n",
    "multi_lr.fit(X_train,y_train)\n",
    "\n",
    "y_pred = multi_lr.predict(X_test)\n",
    "\n",
    "# Decode Predictions\n",
    "y_pred_diagnosis = diagnosis_encoder.inverse_transform(y_pred[:, 0])\n",
    "y_pred_severity = severity_encoder.inverse_transform(y_pred[:, 1])"
   ]
  },
  {
   "cell_type": "code",
   "execution_count": 5,
   "id": "a468b041",
   "metadata": {},
   "outputs": [
    {
     "name": "stdout",
     "output_type": "stream",
     "text": [
      "\n",
      "Diagnosis Classification Report:\n",
      "              precision    recall  f1-score   support\n",
      "\n",
      "           0       0.95      0.97      0.96        64\n",
      "           1       0.96      0.96      0.96       238\n",
      "           2       0.90      0.91      0.91        58\n",
      "           3       0.86      0.55      0.67        11\n",
      "           4       0.75      0.83      0.79        29\n",
      "\n",
      "    accuracy                           0.93       400\n",
      "   macro avg       0.88      0.84      0.86       400\n",
      "weighted avg       0.93      0.93      0.93       400\n",
      "\n",
      "\n",
      "Diagnosis Confusion Matrix:\n",
      "[[ 62   1   1   0   0]\n",
      " [  0 228   1   1   8]\n",
      " [  2   3  53   0   0]\n",
      " [  1   0   4   6   0]\n",
      " [  0   5   0   0  24]]\n",
      "\n",
      "Severity Classification Report:\n",
      "              precision    recall  f1-score   support\n",
      "\n",
      "           0       0.96      0.98      0.97       267\n",
      "           1       0.79      0.84      0.82        58\n",
      "           2       0.94      0.84      0.89        75\n",
      "\n",
      "    accuracy                           0.93       400\n",
      "   macro avg       0.90      0.89      0.89       400\n",
      "weighted avg       0.93      0.93      0.93       400\n",
      "\n",
      "\n",
      "Severity Confusion Matrix:\n",
      "[[261   5   1]\n",
      " [  6  49   3]\n",
      " [  4   8  63]]\n"
     ]
    }
   ],
   "source": [
    "# Diagnosis Evaluation\n",
    "print(\"\\nDiagnosis Classification Report:\")\n",
    "print(classification_report(y_test['Diagnosis'], y_pred[:, 0]))\n",
    "\n",
    "print(\"\\nDiagnosis Confusion Matrix:\")\n",
    "print(confusion_matrix(y_test['Diagnosis'], y_pred[:, 0]))\n",
    "\n",
    "# Severity Evaluation\n",
    "print(\"\\nSeverity Classification Report:\")\n",
    "print(classification_report(y_test['Severity'], y_pred[:, 1]))\n",
    "\n",
    "print(\"\\nSeverity Confusion Matrix:\")\n",
    "print(confusion_matrix(y_test['Severity'], y_pred[:, 1]))"
   ]
  },
  {
   "cell_type": "code",
   "execution_count": 6,
   "id": "6ddb9f26",
   "metadata": {},
   "outputs": [
    {
     "data": {
      "text/plain": [
       "['LR_diagnosis_model.pkl']"
      ]
     },
     "execution_count": 6,
     "metadata": {},
     "output_type": "execute_result"
    }
   ],
   "source": [
    "import joblib\n",
    "\n",
    "# Assuming these are your trained scaler and model\n",
    "joblib.dump(scaler_lr, 'scaler_lr.pkl')\n",
    "joblib.dump(multi_lr, 'LR_diagnosis_model.pkl')"
   ]
  },
  {
   "cell_type": "code",
   "execution_count": 18,
   "id": "856f023e",
   "metadata": {},
   "outputs": [
    {
     "name": "stdout",
     "output_type": "stream",
     "text": [
      "Input Vector before prediction:  [[ 1.14156007  1.03779501 -1.5705436   0.16431602  1.5418952  -0.77956208\n",
      "  -0.73138185 -0.79204754  1.25988973 -0.76471305  1.28277147 -0.77707737\n",
      "   1.28277147]]\n",
      "\n",
      "User inputs: Cough, Runny nose, Shortness of breath, 109, 39.1, 90, 140/116\n",
      "\n",
      "Predicted Diagnosis: Bronchitis, Severe\n"
     ]
    },
    {
     "name": "stderr",
     "output_type": "stream",
     "text": [
      "c:\\Users\\Admin\\anaconda3\\Lib\\site-packages\\sklearn\\utils\\validation.py:2739: UserWarning: X does not have valid feature names, but StandardScaler was fitted with feature names\n",
      "  warnings.warn(\n"
     ]
    }
   ],
   "source": [
    "import joblib\n",
    "import numpy as np\n",
    "import pandas as pd\n",
    "\n",
    "# Load saved scaler and model\n",
    "scaler_lr = joblib.load('scaler_lr.pkl')\n",
    "multi_lr = joblib.load('LR_diagnosis_model.pkl')\n",
    "\n",
    "# List of all possible symptoms (adjust this to match your training set)\n",
    "all_symptoms = [\n",
    "    'Fatigue',\n",
    "    'Sore throat',\n",
    "    'Fever',\n",
    "    'Cough',\n",
    "    'Body ache',\n",
    "    'Shortness of breath',\n",
    "    'Headache',\n",
    "    'Runny nose'\n",
    "]\n",
    "\n",
    "# Define mappings for diagnosis and severity\n",
    "diagnosis_labels = {\n",
    "    0: \"Bronchitis\",\n",
    "    1: \"Common Cold\",\n",
    "    2: \"Flu\",\n",
    "    3: \"Pneumonia\",\n",
    "    4: \"Viral Fever\"\n",
    "}\n",
    "\n",
    "severity_labels = {\n",
    "    0: \"Mild\",\n",
    "    1: \"Moderate\",\n",
    "    2: \"Severe\"\n",
    "}\n",
    "\n",
    "\n",
    "def create_feature_vector(heart_rate, body_temp, oxy_saturation, bp_systolic, bp_diastolic, symptom1, symptom2, symptom3):\n",
    "    # Create a binary vector for symptoms\n",
    "    symptom_vector = [0] * len(all_symptoms)\n",
    "    for sym in [symptom1, symptom2, symptom3]:\n",
    "        if sym in all_symptoms:\n",
    "            index = all_symptoms.index(sym)\n",
    "            symptom_vector[index] = 1\n",
    "\n",
    "    # Append other numeric features\n",
    "    additional_features = [heart_rate, body_temp, oxy_saturation, bp_systolic, bp_diastolic]\n",
    "    full_features = additional_features + symptom_vector \n",
    "    \n",
    "    # Scale features (assumes the same scaler used during training)\n",
    "    scaled_features = scaler_lr.transform([full_features])\n",
    "\n",
    "    return scaled_features\n",
    "\n",
    "# Example user input\n",
    "\n",
    "heart_rate = int(input(\"Enter Heart Rate: \"))\n",
    "body_temp = float(input(\"Enter Body Temperature: \"))\t\n",
    "oxy_saturation = int(input(\"Enter Oxygen Saturation: \"))\n",
    "\n",
    "# Accept blood pressure in \"systolic/diastolic\" format\n",
    "bp_input = input(\"Enter Blood Pressure (Systolic/Diastolic): \")\n",
    "try:\n",
    "    bp_systolic, bp_diastolic = map(int, bp_input.strip().split('/'))\n",
    "except ValueError:\n",
    "    print(\"Invalid format! Please enter as Systolic/Diastolic (e.g. 132/91)\")\n",
    "    exit()\n",
    "symptom1 = input(\"Enter Symptom A: \")\n",
    "symptom2 = input(\"Enter Symptom B: \")\n",
    "symptom3 = input(\"Enter Symptom C: \")\n",
    "\n",
    "# Create feature vector\n",
    "X_input = create_feature_vector(heart_rate, body_temp, oxy_saturation, bp_systolic, bp_diastolic, symptom1, symptom2, symptom3)\n",
    "\n",
    "print(\"Input Vector before prediction: \", X_input)\n",
    "\n",
    "# Make prediction\n",
    "prediction = multi_lr.predict(X_input)\n",
    "\n",
    "# Map numerical prediction to labels\n",
    "diagnosis = diagnosis_labels.get(prediction[0][0], \"Unknown Diagnosis\")\n",
    "severity = severity_labels.get(prediction[0][1], \"Unknown Severity\")\n",
    "\n",
    "print(f\"\\nUser inputs: {symptom1}, {symptom2}, {symptom3}, {heart_rate}, {body_temp}, {oxy_saturation}, {bp_input}\\n\")\n",
    "\n",
    "print(f\"Predicted Diagnosis: {diagnosis}, {severity}\")"
   ]
  }
 ],
 "metadata": {
  "kernelspec": {
   "display_name": "base",
   "language": "python",
   "name": "python3"
  },
  "language_info": {
   "codemirror_mode": {
    "name": "ipython",
    "version": 3
   },
   "file_extension": ".py",
   "mimetype": "text/x-python",
   "name": "python",
   "nbconvert_exporter": "python",
   "pygments_lexer": "ipython3",
   "version": "3.12.3"
  }
 },
 "nbformat": 4,
 "nbformat_minor": 5
}
