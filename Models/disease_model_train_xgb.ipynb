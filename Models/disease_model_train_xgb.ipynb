{
 "cells": [
  {
   "cell_type": "code",
   "execution_count": 1,
   "metadata": {},
   "outputs": [],
   "source": [
    "import pandas as pd\n",
    "import numpy as np\n",
    "from sklearn.model_selection import train_test_split\n",
    "from sklearn.preprocessing import LabelEncoder\n",
    "from sklearn.metrics import classification_report, confusion_matrix\n",
    "from xgboost import XGBClassifier\n",
    "from sklearn.multioutput import MultiOutputClassifier"
   ]
  },
  {
   "cell_type": "code",
   "execution_count": 2,
   "metadata": {},
   "outputs": [],
   "source": [
    "# Load Dataset\n",
    "disease_df = pd.read_csv('disease_diagnosis.csv')"
   ]
  },
  {
   "cell_type": "code",
   "execution_count": 3,
   "metadata": {},
   "outputs": [],
   "source": [
    "# Preprocessing\n",
    "\n",
    "# Extract systolic and diastolic from Blood Pressure\n",
    "bp_split = disease_df['Blood_Pressure_mmHg'].str.split('/', expand=True).astype(float)\n",
    "disease_df['BP_Systolic'] = bp_split[0]\n",
    "disease_df['BP_Diastolic'] = bp_split[1]\n",
    "\n",
    "# One-Hot Encode Symptoms\n",
    "all_symptoms = pd.unique(\n",
    "    disease_df[['Symptom_1', 'Symptom_2', 'Symptom_3']].values.ravel()\n",
    ")\n",
    "\n",
    "for sym in all_symptoms:\n",
    "    disease_df[f\"symptom_{sym}\"] = disease_df[['Symptom_1', 'Symptom_2', 'Symptom_3']].isin([sym]).any(axis=1).astype(int)\n",
    "\n",
    "# Drop unused columns\n",
    "features = ['Heart_Rate_bpm', 'Body_Temperature_C', \n",
    "            'Oxygen_Saturation_%', 'BP_Systolic', 'BP_Diastolic'] + \\\n",
    "           [f\"symptom_{sym}\" for sym in all_symptoms]\n"
   ]
  },
  {
   "cell_type": "code",
   "execution_count": 4,
   "metadata": {},
   "outputs": [
    {
     "name": "stderr",
     "output_type": "stream",
     "text": [
      "C:\\Users\\Admin\\AppData\\Local\\Temp\\ipykernel_13612\\3565973160.py:9: SettingWithCopyWarning: \n",
      "A value is trying to be set on a copy of a slice from a DataFrame.\n",
      "Try using .loc[row_indexer,col_indexer] = value instead\n",
      "\n",
      "See the caveats in the documentation: https://pandas.pydata.org/pandas-docs/stable/user_guide/indexing.html#returning-a-view-versus-a-copy\n",
      "  y['Diagnosis'] = diagnosis_encoder.fit_transform(y['Diagnosis'])\n",
      "C:\\Users\\Admin\\AppData\\Local\\Temp\\ipykernel_13612\\3565973160.py:10: SettingWithCopyWarning: \n",
      "A value is trying to be set on a copy of a slice from a DataFrame.\n",
      "Try using .loc[row_indexer,col_indexer] = value instead\n",
      "\n",
      "See the caveats in the documentation: https://pandas.pydata.org/pandas-docs/stable/user_guide/indexing.html#returning-a-view-versus-a-copy\n",
      "  y['Severity'] = severity_encoder.fit_transform(y['Severity'])\n"
     ]
    }
   ],
   "source": [
    "\n",
    "X = disease_df[features]\n",
    "# Target Columns\n",
    "y = disease_df[['Diagnosis', 'Severity']]\n",
    "\n",
    "# Encode each target\n",
    "diagnosis_encoder = LabelEncoder()\n",
    "severity_encoder = LabelEncoder()\n",
    "\n",
    "y['Diagnosis'] = diagnosis_encoder.fit_transform(y['Diagnosis'])\n",
    "y['Severity'] = severity_encoder.fit_transform(y['Severity'])\n",
    "\n",
    "X_train, X_test, y_train, y_test = train_test_split(\n",
    "    X, y, test_size=0.2, random_state=42\n",
    ")"
   ]
  },
  {
   "cell_type": "code",
   "execution_count": 5,
   "metadata": {},
   "outputs": [],
   "source": [
    "# Initialize XGBoost Classifier\n",
    "xgb = XGBClassifier(\n",
    "    n_estimators=100,\n",
    "    max_depth=3,\n",
    "    learning_rate=0.1,\n",
    "    subsample=0.8,\n",
    "    colsample_bytree=0.8,\n",
    "    reg_alpha=1,\n",
    "    reg_lambda=1 \n",
    ")\n",
    "multi_xgb = MultiOutputClassifier(xgb)\n",
    "\n",
    "# Train the model\n",
    "multi_xgb.fit(X_train, y_train)\n",
    "\n",
    "# Predict on test data\n",
    "y_pred = multi_xgb.predict(X_test)\n",
    "\n",
    "# Decode Predictions\n",
    "y_pred_diagnosis = diagnosis_encoder.inverse_transform(y_pred[:, 0])\n",
    "y_pred_severity = severity_encoder.inverse_transform(y_pred[:, 1])"
   ]
  },
  {
   "cell_type": "code",
   "execution_count": 6,
   "metadata": {},
   "outputs": [
    {
     "name": "stdout",
     "output_type": "stream",
     "text": [
      "\n",
      "Diagnosis Classification Report:\n",
      "              precision    recall  f1-score   support\n",
      "\n",
      "           0       1.00      1.00      1.00        64\n",
      "           1       1.00      1.00      1.00       238\n",
      "           2       1.00      1.00      1.00        58\n",
      "           3       1.00      1.00      1.00        11\n",
      "           4       1.00      1.00      1.00        29\n",
      "\n",
      "    accuracy                           1.00       400\n",
      "   macro avg       1.00      1.00      1.00       400\n",
      "weighted avg       1.00      1.00      1.00       400\n",
      "\n",
      "\n",
      "Diagnosis Confusion Matrix:\n",
      "[[ 64   0   0   0   0]\n",
      " [  0 238   0   0   0]\n",
      " [  0   0  58   0   0]\n",
      " [  0   0   0  11   0]\n",
      " [  0   0   0   0  29]]\n",
      "\n",
      "Severity Classification Report:\n",
      "              precision    recall  f1-score   support\n",
      "\n",
      "           0       1.00      1.00      1.00       267\n",
      "           1       1.00      1.00      1.00        58\n",
      "           2       1.00      1.00      1.00        75\n",
      "\n",
      "    accuracy                           1.00       400\n",
      "   macro avg       1.00      1.00      1.00       400\n",
      "weighted avg       1.00      1.00      1.00       400\n",
      "\n",
      "\n",
      "Severity Confusion Matrix:\n",
      "[[267   0   0]\n",
      " [  0  58   0]\n",
      " [  0   0  75]]\n"
     ]
    }
   ],
   "source": [
    "# Diagnosis Evaluation\n",
    "print(\"\\nDiagnosis Classification Report:\")\n",
    "print(classification_report(y_test['Diagnosis'], y_pred[:, 0]))\n",
    "\n",
    "print(\"\\nDiagnosis Confusion Matrix:\")\n",
    "print(confusion_matrix(y_test['Diagnosis'], y_pred[:, 0]))\n",
    "\n",
    "# Severity Evaluation\n",
    "print(\"\\nSeverity Classification Report:\")\n",
    "print(classification_report(y_test['Severity'], y_pred[:, 1]))\n",
    "\n",
    "print(\"\\nSeverity Confusion Matrix:\")\n",
    "print(confusion_matrix(y_test['Severity'], y_pred[:, 1]))"
   ]
  },
  {
   "cell_type": "code",
   "execution_count": 7,
   "metadata": {},
   "outputs": [
    {
     "data": {
      "text/plain": [
       "['xgb_diagnosis_model.pkl']"
      ]
     },
     "execution_count": 7,
     "metadata": {},
     "output_type": "execute_result"
    }
   ],
   "source": [
    "import joblib\n",
    "\n",
    "# Assuming these are your trained scaler and model\n",
    "joblib.dump(multi_xgb, 'xgb_diagnosis_model.pkl')"
   ]
  },
  {
   "cell_type": "code",
   "execution_count": 33,
   "metadata": {},
   "outputs": [
    {
     "name": "stdout",
     "output_type": "stream",
     "text": [
      "Input Vector before prediction:  [[101, 37.0, 95, 152, 89, 0, 0, 0, 0, 1, 1, 1, 0]]\n",
      "\n",
      "User inputs: 101, 37.0, 95, 152/89, Body ache, Shortness of breath, Headache\n",
      "\n",
      "Predicted Diagnosis: Common Cold, Mild\n"
     ]
    }
   ],
   "source": [
    "import joblib\n",
    "import numpy as np\n",
    "import pandas as pd\n",
    "\n",
    "# Load saved scaler and model\n",
    "multi_xgb = joblib.load('xgb_diagnosis_model.pkl')\n",
    "\n",
    "# List of all possible symptoms (adjust this to match your training set)\n",
    "all_symptoms = [\n",
    "    'Fatigue',\n",
    "    'Sore throat',\n",
    "    'Fever',\n",
    "    'Cough',\n",
    "    'Body ache',\n",
    "    'Shortness of breath',\n",
    "    'Headache',\n",
    "    'Runny nose'\n",
    "]\n",
    "\n",
    "# Define mappings for diagnosis and severity\n",
    "diagnosis_labels = {\n",
    "    0: \"Bronchitis\",\n",
    "    1: \"Common Cold\",\n",
    "    2: \"Flu\",\n",
    "    3: \"Pneumonia\",\n",
    "    4: \"Viral Fever\"\n",
    "}\n",
    "\n",
    "severity_labels = {\n",
    "    0: \"Mild\",\n",
    "    1: \"Moderate\",\n",
    "    2: \"Severe\"\n",
    "}\n",
    "\n",
    "\n",
    "def create_feature_vector(heart_rate, body_temp, oxy_saturation, bp_systolic, bp_diastolic, symptom1, symptom2, symptom3):\n",
    "    # Create a binary vector for symptoms\n",
    "    symptom_vector = [0] * len(all_symptoms)\n",
    "    for sym in [symptom1, symptom2, symptom3]:\n",
    "        if sym in all_symptoms:\n",
    "            index = all_symptoms.index(sym)\n",
    "            symptom_vector[index] = 1\n",
    "\n",
    "    # Append other numeric features\n",
    "    additional_features = [heart_rate, body_temp, oxy_saturation, bp_systolic, bp_diastolic]\n",
    "    full_features = additional_features + symptom_vector\n",
    "\n",
    "    return [(full_features)]\n",
    "\n",
    "# Example user input\n",
    "\n",
    "heart_rate = int(input(\"Enter Heart Rate: \"))\n",
    "body_temp = float(input(\"Enter Body Temperature: \"))\t\n",
    "oxy_saturation = int(input(\"Enter Oxygen Saturation: \"))\n",
    "\n",
    "# Accept blood pressure in \"systolic/diastolic\" format\n",
    "bp_input = input(\"Enter Blood Pressure (Systolic/Diastolic): \")\n",
    "try:\n",
    "    bp_systolic, bp_diastolic = map(int, bp_input.strip().split('/'))\n",
    "except ValueError:\n",
    "    print(\"Invalid format! Please enter as Systolic/Diastolic (e.g. 132/91)\")\n",
    "    exit()\n",
    "symptom1 = input(\"Enter Symptom A: \")\n",
    "symptom2 = input(\"Enter Symptom B: \")\n",
    "symptom3 = input(\"Enter Symptom C: \")\n",
    "\n",
    "\n",
    "# Create feature vector\n",
    "X_input = create_feature_vector(heart_rate, body_temp, oxy_saturation, bp_systolic, bp_diastolic, symptom1, symptom2, symptom3)\n",
    "\n",
    "print(\"Input Vector before prediction: \", X_input)\n",
    "\n",
    "# Make prediction\n",
    "prediction = multi_xgb.predict(X_input)\n",
    "\n",
    "# Map numerical prediction to labels\n",
    "diagnosis = diagnosis_labels.get(prediction[0][0], \"Unknown Diagnosis\")\n",
    "severity = severity_labels.get(prediction[0][1], \"Unknown Severity\")\n",
    "\n",
    "print(f\"\\nUser inputs: {heart_rate}, {body_temp}, {oxy_saturation}, {bp_input}, {symptom1}, {symptom2}, {symptom3}\\n\")\n",
    "\n",
    "print(f\"Predicted Diagnosis: {diagnosis}, {severity}\")"
   ]
  },
  {
   "cell_type": "code",
   "execution_count": 35,
   "metadata": {},
   "outputs": [
    {
     "name": "stdout",
     "output_type": "stream",
     "text": [
      "Diagnosis Probabilities:\n",
      "Bronchitis: 0.0002\n",
      "CommonCold: 0.9992\n",
      "Flu: 0.0002\n",
      "Pneumonia: 0.0003\n",
      "ViralFever: 0.0002\n",
      "\n",
      "Severity Probabilities:\n",
      "Mild: 0.9995\n",
      "Moderate: 0.0002\n",
      "Severe: 0.0002\n"
     ]
    }
   ],
   "source": [
    "diagnosis_classes = ['Bronchitis', 'CommonCold','Flu','Pneumonia', 'ViralFever']\n",
    "severity_classes = ['Mild', 'Moderate', 'Severe']\n",
    "\n",
    "# Get prediction probabilities\n",
    "probs = multi_xgb.predict_proba(X_input)\n",
    "\n",
    "# Map to labels\n",
    "diagnosis_probs = dict(zip(diagnosis_classes, probs[0][0]))\n",
    "severity_probs = dict(zip(severity_classes, probs[1][0]))\n",
    "\n",
    "print(\"Diagnosis Probabilities:\")\n",
    "for label, prob in diagnosis_probs.items():\n",
    "    print(f\"{label}: {prob:.4f}\")\n",
    "\n",
    "print(\"\\nSeverity Probabilities:\")\n",
    "for label, prob in severity_probs.items():\n",
    "    print(f\"{label}: {prob:.4f}\")"
   ]
  },
  {
   "cell_type": "code",
   "execution_count": 11,
   "metadata": {},
   "outputs": [
    {
     "data": {
      "text/plain": [
       "Diagnosis\n",
       "1    1167\n",
       "0     334\n",
       "2     292\n",
       "4     163\n",
       "3      44\n",
       "Name: count, dtype: int64"
      ]
     },
     "execution_count": 11,
     "metadata": {},
     "output_type": "execute_result"
    }
   ],
   "source": [
    "y['Diagnosis'].value_counts()\n"
   ]
  },
  {
   "cell_type": "code",
   "execution_count": 12,
   "metadata": {},
   "outputs": [
    {
     "data": {
      "text/plain": [
       "Severity\n",
       "0    1330\n",
       "2     378\n",
       "1     292\n",
       "Name: count, dtype: int64"
      ]
     },
     "execution_count": 12,
     "metadata": {},
     "output_type": "execute_result"
    }
   ],
   "source": [
    "y['Severity'].value_counts()"
   ]
  }
 ],
 "metadata": {
  "kernelspec": {
   "display_name": "base",
   "language": "python",
   "name": "python3"
  },
  "language_info": {
   "codemirror_mode": {
    "name": "ipython",
    "version": 3
   },
   "file_extension": ".py",
   "mimetype": "text/x-python",
   "name": "python",
   "nbconvert_exporter": "python",
   "pygments_lexer": "ipython3",
   "version": "3.12.3"
  }
 },
 "nbformat": 4,
 "nbformat_minor": 2
}
